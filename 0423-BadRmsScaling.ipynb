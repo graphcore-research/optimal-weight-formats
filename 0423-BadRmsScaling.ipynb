{
 "cells": [
  {
   "cell_type": "markdown",
   "id": "e48519c4",
   "metadata": {},
   "source": [
    "# Bad quantisation for Llama-8B under RMS scaling\n",
    "\n",
    "We noticed that `F.Scaled(3, \"int\", Q.BFLOAT16, (1, None), \"rms\", \"optimal\")` performs particularly badly for `meta-llama/Llama-3.1-8B`. This notebook debugs the cause."
   ]
  },
  {
   "cell_type": "code",
   "execution_count": null,
   "id": "02593922",
   "metadata": {},
   "outputs": [
    {
     "name": "stdout",
     "output_type": "stream",
     "text": [
      "The autoreload extension is already loaded. To reload it, use:\n",
      "  %reload_ext autoreload\n"
     ]
    }
   ],
   "source": [
    "%load_ext autoreload\n",
    "%autoreload 2\n",
    "\n",
    "import sys\n",
    "sys.path.append(\"..\")\n",
    "\n",
    "import matplotlib\n",
    "import matplotlib.pyplot as plt\n",
    "import pandas as pd\n",
    "import safetensors.torch\n",
    "import torch\n",
    "\n",
    "import block_formats.experiments as E\n",
    "import block_formats.experiments.token_prediction as ET\n",
    "import block_formats.fit as F\n",
    "import block_formats.model_quantisation as M\n",
    "import block_formats.quantisation as Q\n",
    "\n",
    "matplotlib.rcParams.update({\"axes.spines.top\": False, \"axes.spines.right\": False, \"legend.frameon\": False})\n",
    "DEVICE = torch.device(\"cuda\" if torch.cuda.is_available() else \"cpu\")"
   ]
  },
  {
   "cell_type": "code",
   "execution_count": 2,
   "id": "581e5e7b",
   "metadata": {},
   "outputs": [
    {
     "name": "stderr",
     "output_type": "stream",
     "text": [
      "Loading checkpoint shards: 100%|██████████| 4/4 [02:01<00:00, 30.45s/it]\n"
     ]
    },
    {
     "data": {
      "text/plain": [
       "{'cross_entropy': tensor([1.7383, 2.2270, 1.3403, 1.8751, 1.8488, 1.5933, 1.8925, 1.7227, 1.4836,\n",
       "         1.5295, 1.7491, 1.8509, 1.4257, 1.7619, 1.7993, 1.9820],\n",
       "        device='cuda:0'),\n",
       " 'kl_div': tensor([0., 0., 0., 0., 0., 0., 0., 0., 0., 0., 0., 0., 0., 0., 0., 0.],\n",
       "        device='cuda:0')}"
      ]
     },
     "execution_count": 2,
     "metadata": {},
     "output_type": "execute_result"
    }
   ],
   "source": [
    "model = E.RequantisableModel.load(\"meta-llama/Llama-3.1-8B\", DEVICE, torch.bfloat16)\n",
    "data = ET.Dataset.load_wikitext(model.model, 4096, 1, 128, 16)\n",
    "data1 = ET.Dataset.load_wikitext(model.model, 4096, 1, 128, 1)\n",
    "data.evaluate(model.model)"
   ]
  },
  {
   "cell_type": "code",
   "execution_count": null,
   "id": "faad2168",
   "metadata": {},
   "outputs": [
    {
     "data": {
      "text/plain": [
       "{'cross_entropy': tensor([4.5721, 4.8556, 4.0670, 4.8181, 4.8043, 4.5317, 4.6443, 4.9782, 5.2783,\n",
       "         4.9839, 3.6920, 4.7815, 4.3863, 4.7546, 4.2170, 4.6042],\n",
       "        device='cuda:0'),\n",
       " 'kl_div': tensor([2.7393, 2.5580, 2.6648, 2.9427, 2.8081, 2.9322, 2.6374, 3.1669, 3.7476,\n",
       "         3.4008, 1.8965, 2.8736, 2.9199, 2.9539, 2.3808, 2.5107],\n",
       "        device='cuda:0')}"
      ]
     },
     "execution_count": 4,
     "metadata": {},
     "output_type": "execute_result"
    }
   ],
   "source": [
    "model.reset()\n",
    "r = M.quantise_2d_fixed(model.model, F.Scaled(3, \"int\", Q.BFLOAT16, (1, None), \"rms\", \"optimal\"))\n",
    "data.evaluate(model.model)"
   ]
  },
  {
   "cell_type": "code",
   "execution_count": null,
   "id": "c8964da3",
   "metadata": {},
   "outputs": [
    {
     "data": {
      "text/plain": [
       "{'cross_entropy': tensor([1.8590, 2.3826, 1.4446, 1.9860, 2.0133, 1.6958, 2.0281, 1.8707, 1.6753,\n",
       "         1.6453, 1.8412, 2.0139, 1.5882, 1.8796, 1.9574, 2.1154],\n",
       "        device='cuda:0'),\n",
       " 'kl_div': tensor([0.1206, 0.1461, 0.1109, 0.1313, 0.1529, 0.1084, 0.1265, 0.1560, 0.2027,\n",
       "         0.1290, 0.0965, 0.1522, 0.1651, 0.1141, 0.1413, 0.1263],\n",
       "        device='cuda:0')}"
      ]
     },
     "execution_count": 5,
     "metadata": {},
     "output_type": "execute_result"
    }
   ],
   "source": [
    "# Identify the type of layer that is the problem\n",
    "model.reset()\n",
    "r = M.quantise_2d_fixed(model.model, F.Scaled(3, \"int\", Q.BFLOAT16, (1, None), \"rms\", \"optimal\"), ignore=(\"down_proj\",))\n",
    "data.evaluate(model.model)"
   ]
  },
  {
   "cell_type": "code",
   "execution_count": 6,
   "id": "5cd2c825",
   "metadata": {},
   "outputs": [
    {
     "data": {
      "image/png": "[encoded data removed]",
      "text/plain": [
       "<Figure size 640x480 with 1 Axes>"
      ]
     },
     "metadata": {},
     "output_type": "display_data"
    }
   ],
   "source": [
    "# Identify the specific tensor\n",
    "kl_by_layer = []\n",
    "for n, layer in enumerate(model.model.model.layers):\n",
    "    model.reset()\n",
    "    M.quantise_parameter_(layer.mlp.down_proj.weight, F.Scaled(3, \"int\", Q.BFLOAT16, (1, None), \"rms\", \"optimal\"))\n",
    "    kl_by_layer.append(data1.evaluate(model.model)[\"kl_div\"].mean())\n",
    "_, ax = plt.subplots()\n",
    "ax.plot(torch.stack(kl_by_layer).cpu())\n",
    "ax.set_yscale(\"log\")"
   ]
  },
  {
   "cell_type": "code",
   "execution_count": 51,
   "id": "f23454c5",
   "metadata": {},
   "outputs": [
    {
     "name": "stdout",
     "output_type": "stream",
     "text": [
      "                                     fmt | rmse       | kl_div    \n",
      "                  E2M0{1,*:BFLOAT16:rms} | 0.23       | 9.90      \n",
      "               E2M0{1,*:BFLOAT16:absmax} | 0.35       | 0.16      \n",
      "  E2M0{dim=(0,):BFLOAT16}+BFLOAT16{0.0%} | 0.23       | 0.06      \n",
      "          E2M0{1,*:BFLOAT16:rms}{rot[0]} | 0.22       | 0.36      \n"
     ]
    }
   ],
   "source": [
    "p = model.model.model.layers[1].mlp.down_proj.weight\n",
    "\n",
    "def test(fmt: Q.TensorFormat) -> None:\n",
    "    model.reset()\n",
    "    q = fmt.quantise(p.detach())\n",
    "    rmse = Q.rmse_norm(p, q)\n",
    "    p.data[...] = q\n",
    "    kl_div = data1.evaluate(model.model)[\"kl_div\"].mean()\n",
    "    print(f\"{str(fmt):>40} | {rmse.item():<10.2f} | {kl_div.item():<10.2f}\")\n",
    "\n",
    "print(f\"{'fmt':>40} | {'rmse':<10} | {'kl_div':<10}\")\n",
    "test(Q.LinearScalingFormat(Q.parse(\"E2M0\"), Q.BFLOAT16, (1, None), \"rms\"))\n",
    "test(Q.LinearScalingFormat(Q.parse(\"E2M0\"), Q.BFLOAT16, (1, None), \"absmax\"))\n",
    "test(Q.ChannelAndSparseFormat(Q.parse(\"E2M0\"), Q.BFLOAT16, (0,), Q.BFLOAT16, 1e-7))\n",
    "test(Q.RandomRotationFormat(Q.LinearScalingFormat(Q.parse(\"E2M0\"), Q.BFLOAT16, (1, None), \"rms\"), (0,), 123))"
   ]
  },
  {
   "cell_type": "code",
   "execution_count": 67,
   "id": "e414dfbe",
   "metadata": {},
   "outputs": [
    {
     "data": {
      "text/html": [
       "<div>\n",
       "<style scoped>\n",
       "    .dataframe tbody tr th:only-of-type {\n",
       "        vertical-align: middle;\n",
       "    }\n",
       "\n",
       "    .dataframe tbody tr th {\n",
       "        vertical-align: top;\n",
       "    }\n",
       "\n",
       "    .dataframe thead th {\n",
       "        text-align: right;\n",
       "    }\n",
       "</style>\n",
       "<table border=\"1\" class=\"dataframe\">\n",
       "  <thead>\n",
       "    <tr style=\"text-align: right;\">\n",
       "      <th></th>\n",
       "      <th>parameter</th>\n",
       "      <th>fisher</th>\n",
       "    </tr>\n",
       "  </thead>\n",
       "  <tbody>\n",
       "    <tr>\n",
       "      <th>9</th>\n",
       "      <td>model.layers.1.mlp.down_proj.weight</td>\n",
       "      <td>58880.0</td>\n",
       "    </tr>\n",
       "    <tr>\n",
       "      <th>0</th>\n",
       "      <td>lm_head.weight</td>\n",
       "      <td>9984.0</td>\n",
       "    </tr>\n",
       "    <tr>\n",
       "      <th>8</th>\n",
       "      <td>model.layers.0.self_attn.v_proj.weight</td>\n",
       "      <td>5152.0</td>\n",
       "    </tr>\n",
       "    <tr>\n",
       "      <th>177</th>\n",
       "      <td>model.layers.31.mlp.down_proj.weight</td>\n",
       "      <td>4576.0</td>\n",
       "    </tr>\n",
       "    <tr>\n",
       "      <th>15</th>\n",
       "      <td>model.layers.1.self_attn.v_proj.weight</td>\n",
       "      <td>3824.0</td>\n",
       "    </tr>\n",
       "  </tbody>\n",
       "</table>\n",
       "</div>"
      ],
      "text/plain": [
       "                                  parameter   fisher\n",
       "9       model.layers.1.mlp.down_proj.weight  58880.0\n",
       "0                            lm_head.weight   9984.0\n",
       "8    model.layers.0.self_attn.v_proj.weight   5152.0\n",
       "177    model.layers.31.mlp.down_proj.weight   4576.0\n",
       "15   model.layers.1.self_attn.v_proj.weight   3824.0"
      ]
     },
     "metadata": {},
     "output_type": "display_data"
    }
   ],
   "source": [
    "fisher = safetensors.torch.load_file(\"../out/fisher/meta-llama--Llama-3.1-8B.safetensors\")\n",
    "display(pd.DataFrame.from_records([dict(parameter=p, fisher=f.sum().item()) for p, f in fisher.items()]).sort_values(\"fisher\", ascending=False).head(5))"
   ]
  }
 ],
 "metadata": {
  "kernelspec": {
   "display_name": ".venv",
   "language": "python",
   "name": "python3"
  },
  "language_info": {
   "codemirror_mode": {
    "name": "ipython",
    "version": 3
   },
   "file_extension": ".py",
   "mimetype": "text/x-python",
   "name": "python",
   "nbconvert_exporter": "python",
   "pygments_lexer": "ipython3",
   "version": "3.12.7"
  }
 },
 "nbformat": 4,
 "nbformat_minor": 5
}
