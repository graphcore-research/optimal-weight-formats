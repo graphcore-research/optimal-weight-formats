{
 "cells": [
  {
   "cell_type": "markdown",
   "id": "00c3d5bc",
   "metadata": {},
   "source": [
    "# SOTA performance targets for QAT"
   ]
  },
  {
   "cell_type": "markdown",
   "id": "67faf3b7",
   "metadata": {},
   "source": [
    "## General review\n",
    "\n",
    "| Paper | Model | Quantisation | BoolQ | PIQA | SIQA | HellaSwag | WinoGrande | ARC-e | ARC-c | OBQA |\n",
    "| --- | --- | --- | --- | --- | --- | --- | --- | --- | --- | --- |\n",
    "| LLM-QAT | Llama-7B | - | 76.8 | 79.3 | 48.6 | 76.1 | 70.0 | 73.0 | 48.0 | 57.6 |\n",
    "| LLM-QAT | Llama-7B | 4-bit linear absmax sym \"4-16-16\" QAT (RTN) | 75.5 (71.2) | 78.3 (77.3) | 48.4 (47.6) | 74.0 (72.7) | 69.0 (66.9) | 70.0 (68.8) | 45.0 (46.4) | 55.4 (52.8) |\n",
    "| CherryQ | Llama2-7B | - | - | - | - | 78.6 | 74.0 | - | 53.2 | - |\n",
    "| CherryQ | Llama2-7B | 4-bit B=128 CherryQ (basic QAT) | - | - | - | 77.8 (77.5) | 73.5 (72.2) | - | 51.5 (52.0) | - |\n",
    "| CherryQ | Llama2-7B | 3-bit B=64 CherryQ (basic QAT) | - | - | - | 77.0 (75.5) | 71.8 (71.6) | - | 50.6 (49.2) | - |\n",
    "| ParetoQ | Llama3-8B | - | 83.6 | 81.0 | 49.3 | 79.5 | 73.9 | 81.0 | 57.7 | 55.7 |\n",
    "| ParetoQ | Llama3-8B | 4-bit channel ParetoQ (LLM-QAT) | 80.2 (82.9) | 80.4 (79.1) | 51.5 (49.2) | 77.8 (77.6) | 71.8 (72.0) | 78.6 (77.4) | 55.6 (54.0) | 55.7 (54.3) |\n",
    "| ParetoQ | Llama3-1B | - | 64.8 | 74.8 | 44.8 | 64.4 | 61.5 |  64.8 | 42.5 | 50.2 |\n",
    "| ParetoQ | Llama3-1B | 4-bit channel ParetoQ (LLM-QAT) | 64.4 (62.3) | 74.8 (73.0) | 44.4 (44.2) | 63.5 (59.0) | 61.4 (58.7) | 67.4 (61.3) | 43.4 (38.1) | 50.4 (41.8) |\n",
    "\n",
    " - [LLM-QAT](https://arxiv.org/abs/2305.17888)\n",
    " - [CherryQ](https://arxiv.org/abs/2404.02837)\n",
    " - [ParetoQ](https://arxiv.org/abs/2502.02631)\n"
   ]
  },
  {
   "cell_type": "markdown",
   "id": "cfb67ac9",
   "metadata": {},
   "source": [
    "## ParetoQ\n",
    "\n",
    "### 4-bit (16-bit embeddings)\n",
    "\n",
    "<img src=\"img/paretoq-table5.png\" style=\"max-width:50em\"/>\n",
    "\n",
    "### 3-bit (16-bit embeddings)\n",
    "\n",
    "<img src=\"img/paretoq-table4.png\" style=\"max-width:50em\"/>"
   ]
  }
 ],
 "metadata": {
  "language_info": {
   "name": "python"
  }
 },
 "nbformat": 4,
 "nbformat_minor": 5
}
