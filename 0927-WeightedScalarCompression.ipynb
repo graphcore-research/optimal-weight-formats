{
 "cells": [
  {
   "cell_type": "markdown",
   "id": "423e1b51",
   "metadata": {},
   "source": [
    "# Weighted Scalar Compression\n",
    "\n",
    "Scalar compression, with per-sample weights.\n",
    "\n",
    "We used the lecture slides [Optimal Scalar Quantisation](https://iphome.hhi.de/schwarz/assets/dc/10-OptScalarQuant.pdf) by Heiko Schwarz, for reference.\n",
    "\n",
    "Compare the following techniques, each for {weighted, unweighted}:\n",
    " - Scaled-INT (fixed-length, linear)\n",
    " - Lloyd-Max (fixed-length, non-linear)\n",
    " - URQ (variable-length, linear)\n",
    " - ECSQ (variable-length, non-linear)"
   ]
  },
  {
   "cell_type": "markdown",
   "id": "956b9294",
   "metadata": {},
   "source": [
    "### Setup and data"
   ]
  },
  {
   "cell_type": "code",
   "execution_count": 1,
   "id": "97fdc264",
   "metadata": {},
   "outputs": [],
   "source": [
    "from dataclasses import dataclass\n",
    "from functools import partial\n",
    "import itertools as it\n",
    "import math\n",
    "import matplotlib\n",
    "import matplotlib.pyplot as plt\n",
    "import pandas as pd\n",
    "import torch\n",
    "from torch import Tensor, tensor\n",
    "from typing import Any, Callable\n",
    "import scipy.optimize\n",
    "import seaborn as sns\n",
    "\n",
    "device = torch.device(\"cuda\" if torch.cuda.is_available() else \"cpu\")\n",
    "torch.set_default_device(device)\n",
    "matplotlib.rcParams.update({\"axes.spines.top\": False, \"axes.spines.right\": False, \"legend.frameon\": False, \"figure.figsize\": (4, 3)})"
   ]
  },
  {
   "cell_type": "code",
   "execution_count": 118,
   "id": "a0e0e842",
   "metadata": {},
   "outputs": [
    {
     "data": {
      "image/png": "[encoded data removed]",
      "text/plain": [
       "<Figure size 700x200 with 2 Axes>"
      ]
     },
     "metadata": {},
     "output_type": "display_data"
    }
   ],
   "source": [
    "t_df = tensor(5.0)\n",
    "n_samples = 2**20\n",
    "torch.manual_seed(100)\n",
    "\n",
    "data = (\n",
    "    torch.distributions.StudentT(t_df, scale=(t_df - 2).div(t_df).sqrt()).sample((n_samples,)),\n",
    "    torch.randn(n_samples).add(-5).exp(),\n",
    ")\n",
    "\n",
    "_, (ax0, ax1) = plt.subplots(ncols=2, figsize=(7, 2), sharey=True)\n",
    "sns.kdeplot(data[0].cpu(), ax=ax0)\n",
    "ax0.set_xlabel(\"Value\")\n",
    "ax0.set_yscale(\"log\")\n",
    "ax0.set_ylim((10**-6, 10**0))\n",
    "sns.kdeplot(data[1].cpu(), ax=ax1, log_scale=True)\n",
    "ax1.set_xlabel(\"Sensitivity\");"
   ]
  },
  {
   "cell_type": "markdown",
   "id": "3fffb6c5",
   "metadata": {},
   "source": [
    "### Common"
   ]
  },
  {
   "cell_type": "code",
   "execution_count": 3,
   "id": "ff467842",
   "metadata": {},
   "outputs": [],
   "source": [
    "@dataclass\n",
    "class Quantiser:\n",
    "    codepoints: Tensor\n",
    "    lengths: Tensor\n",
    "    lam: float\n",
    "\n",
    "    @classmethod\n",
    "    def fixed_length(cls, codepoints: Tensor) -> \"Quantiser\":\n",
    "        return cls(\n",
    "            codepoints=codepoints,\n",
    "            lengths=torch.full_like(codepoints, math.log2(codepoints.nelement())),\n",
    "            lam=0.0,\n",
    "        )\n",
    "\n",
    "    def qidx(self, data: tuple[Tensor, Tensor]) -> Tensor:\n",
    "        return (data[0][:, None] - self.codepoints).pow(2).mul(data[1][:, None]).add(self.lam * self.lengths).argmin(-1)\n",
    "\n",
    "    def quantise(self, data: tuple[Tensor, Tensor]) -> Tensor:\n",
    "        return self.codepoints[self.qidx(data)]\n",
    "\n",
    "    def bits_per_element(self, data: tuple[Tensor, Tensor]) -> float:\n",
    "        return self.lengths[self.qidx(data)].mean()\n",
    "\n",
    "\n",
    "def rmse_norm(data: tuple[Tensor, Tensor] | tuple[Tensor, Tensor, Tensor], quantiser: Quantiser) -> Tensor:\n",
    "    \"\"\"Compute the weighted-RMSE relative to weighted-RMS\n",
    "\n",
    "    data -- (Tensor, Tensor) -- (values, weights)\n",
    "    data -- (Tensor, Tensor, Tensor) -- (values, quantisation_weights, scoring_weights)\n",
    "    \"\"\"\n",
    "    data_rms = data[0].pow(2).mul(data[-1]).mean().sqrt()\n",
    "    error_rms = (data[0] - quantiser.quantise(data[:2])).pow(2).mul(data[-1]).mean().sqrt()\n",
    "    return error_rms / data_rms"
   ]
  },
  {
   "cell_type": "markdown",
   "id": "af3c9355",
   "metadata": {},
   "source": [
    "### Method: Scaled-INT"
   ]
  },
  {
   "cell_type": "code",
   "execution_count": 119,
   "id": "c12624a5",
   "metadata": {},
   "outputs": [
    {
     "name": "stdout",
     "output_type": "stream",
     "text": [
      "error = 0.283\n",
      " bits = 3.000\n"
     ]
    }
   ],
   "source": [
    "def scaled_int(data: tuple[Tensor, Tensor], bits: float) -> Quantiser:\n",
    "    n = round(2**bits)\n",
    "    base_centroids = torch.arange(n) - n/2 + 0.5\n",
    "    base_thresholds = torch.arange(n-1) - n/2 + 1\n",
    "    # Explicit search (lazy solution)\n",
    "    delta_max = data[0].abs().amax().div(base_centroids[-1]).item()\n",
    "    def error(delta: float) -> float:\n",
    "        idx = torch.bucketize(data[0], base_thresholds.mul(delta))\n",
    "        return base_centroids[idx].mul(delta).sub(data[0]).pow(2).mul(data[1]).sum().item()\n",
    "    delta = scipy.optimize.minimize_scalar(error, bounds=(0, delta_max)).x\n",
    "    return Quantiser.fixed_length(base_centroids.mul(delta))\n",
    "\n",
    "q = scaled_int(data, 3)\n",
    "print(f\"error = {rmse_norm(data, q):.3f}\")\n",
    "print(f\" bits = {q.bits_per_element(data):.3f}\")"
   ]
  },
  {
   "cell_type": "markdown",
   "id": "0edb167b",
   "metadata": {},
   "source": [
    "### Method: Lloyd-Max"
   ]
  },
  {
   "cell_type": "code",
   "execution_count": 120,
   "id": "96ac98d4",
   "metadata": {},
   "outputs": [
    {
     "name": "stdout",
     "output_type": "stream",
     "text": [
      "error = 0.252\n",
      " bits = 3.000\n"
     ]
    }
   ],
   "source": [
    "def _kmeanspp_init(data: tuple[Tensor, Tensor], n_codepoints: int) -> Tensor:\n",
    "    \"\"\"Initial centroids according to k-means++\"\"\"\n",
    "    codepoints = torch.empty(n_codepoints, device=data[0].device, dtype=data[0].dtype)\n",
    "    d2 = data[1]\n",
    "    for i in range(n_codepoints):\n",
    "        codepoints[i] = data[0][torch.multinomial(d2 / d2.sum(), 1)]\n",
    "        codepoints[:i+1] = torch.sort(codepoints[:i+1]).values\n",
    "        closest = torch.bucketize(data[0], (codepoints[:i] + codepoints[1:i+1]) / 2)\n",
    "        d2 = codepoints[closest].sub(data[0]).pow(2).mul(data[1])\n",
    "    return codepoints\n",
    "\n",
    "\n",
    "def lloyd_max(data: tuple[Tensor, Tensor], bits: float, convergence_threshold: float = 1e-4) -> Quantiser:\n",
    "    codepoints = _kmeanspp_init(data, round(2**bits))\n",
    "    idx = torch.empty(data[0].shape, device=data[0].device, dtype=torch.int64)\n",
    "    last_idx = torch.empty_like(idx)\n",
    "    while True:\n",
    "        last_idx[...] = idx\n",
    "        thresholds = (codepoints[1:] + codepoints[:-1]) / 2\n",
    "        torch.bucketize(data[0], thresholds, out=idx)\n",
    "        codepoints = (\n",
    "            torch.zeros_like(codepoints).scatter_add_(0, idx, data[0].mul(data[1]))\n",
    "            / torch.zeros_like(codepoints).scatter_add_(0, idx, data[1])\n",
    "        )\n",
    "        idx_change = (last_idx != idx).float().mean().item()\n",
    "        if idx_change <= convergence_threshold:\n",
    "            return Quantiser.fixed_length(codepoints)\n",
    "\n",
    "\n",
    "q = lloyd_max(data, 3)\n",
    "print(f\"error = {rmse_norm(data, q):.3f}\")\n",
    "print(f\" bits = {q.bits_per_element(data):.3f}\")"
   ]
  },
  {
   "cell_type": "markdown",
   "id": "895aef67",
   "metadata": {},
   "source": [
    "### Method: URQ"
   ]
  },
  {
   "cell_type": "code",
   "execution_count": 212,
   "id": "ae465be6",
   "metadata": {},
   "outputs": [
    {
     "name": "stdout",
     "output_type": "stream",
     "text": [
      "delta = 0.659\n",
      "error = 0.468\n",
      " bits = 1.042\n",
      "  eff = 0.964\n"
     ]
    }
   ],
   "source": [
    "def urq(data: tuple[Tensor, Tensor], lambase: float, dequantised_bits: int = 8, convergence_threshold: float = 1e-3) -> Quantiser:\n",
    "    lam = lambase * data[0].pow(2).mul(data[1]).mean()\n",
    "    n = round(2**dequantised_bits)\n",
    "    cidx = torch.arange(n, dtype=torch.float32) - n/2\n",
    "\n",
    "    delta = data[0].pow(2).mean().mul(lambase).sqrt()  # heuristic\n",
    "    lengths = torch.ones_like(cidx)\n",
    "    idx = torch.zeros_like(data[0], dtype=torch.long)\n",
    "    while True:\n",
    "        last_idx = idx\n",
    "        codepoints = cidx * delta\n",
    "        idx = (data[0][:, None] - codepoints).pow(2).mul(data[1][:, None]).add(lam * lengths).argmin(-1)\n",
    "        counts = idx.bincount(minlength=len(codepoints)).add(1)\n",
    "        lengths = counts.div(counts.sum()).log2().neg()\n",
    "        idx_change = (last_idx != idx).float().mean().item()\n",
    "        if idx_change <= convergence_threshold:\n",
    "            return Quantiser(codepoints, lengths, lam)\n",
    "        delta = cidx[idx].mul(data[0]).mul(data[1]).sum().div(cidx[idx].pow(2).mul(data[1]).sum())\n",
    "        # print(delta)\n",
    "\n",
    "\n",
    "d = data\n",
    "# d = (data[0], torch.ones_like(data[0]), data[1])\n",
    "q = urq(d[:2], 2**-2, dequantised_bits=8)\n",
    "print(f\"delta = {q.codepoints[1] - q.codepoints[0]:.3f}\")\n",
    "print(f\"error = {rmse_norm(d, q):.3f}\")\n",
    "print(f\" bits = {q.bits_per_element(d[:2]):.3f}\")\n",
    "print(f\"  eff = {rmse_norm(d, q) * 2**q.bits_per_element(d[:2]):.3f}\")\n",
    "# _, ax = plt.subplots(figsize=(8, 3))\n",
    "# ax.plot(q.lengths.cpu());"
   ]
  },
  {
   "cell_type": "code",
   "execution_count": 213,
   "id": "807dd951",
   "metadata": {},
   "outputs": [
    {
     "name": "stdout",
     "output_type": "stream",
     "text": [
      "delta = 0.398\n",
      "error = 0.472\n",
      " bits = 1.043\n",
      "  eff = 0.972\n"
     ]
    }
   ],
   "source": [
    "def urq_v2(data: tuple[Tensor, Tensor], lambase: float, dequantised_bits: int = 8, convergence_threshold: float = 1e-3) -> Quantiser:\n",
    "    lam = lambase * data[0].pow(2).mul(data[1]).mean()\n",
    "    n = round(2**dequantised_bits)\n",
    "    cidx = torch.arange(n, dtype=torch.float32) - n/2\n",
    "\n",
    "    delta = data[0].pow(2).mean().mul(lambase).sqrt()  # heuristic\n",
    "    idx = torch.zeros_like(data[0], dtype=torch.long)\n",
    "    while True:\n",
    "        codepoints = cidx * delta\n",
    "        lengths = torch.ones_like(cidx)\n",
    "        while True:\n",
    "            last_idx = idx\n",
    "            idx = (data[0][:, None] - codepoints).pow(2).mul(data[1][:, None]).add(lam * lengths).argmin(-1)\n",
    "            counts = idx.bincount(minlength=len(codepoints)).add(1)\n",
    "            lengths = counts.div(counts.sum()).log2().neg()\n",
    "            idx_change = (last_idx != idx).float().mean().item()\n",
    "            if idx_change <= convergence_threshold:\n",
    "                break\n",
    "        new_delta = cidx[idx].mul(data[0]).mul(data[1]).sum().div(cidx[idx].pow(2).mul(data[1]).sum())\n",
    "        delta_change = (new_delta.log() - delta.log()).abs()\n",
    "        # print(delta, new_delta, delta_change)\n",
    "        if delta_change <= convergence_threshold:\n",
    "            return Quantiser(codepoints, lengths, lam)\n",
    "        delta = new_delta\n",
    "        # alpha = .5\n",
    "        # delta = delta.pow(alpha).mul(new_delta.pow(1-alpha))\n",
    "\n",
    "\n",
    "d = data\n",
    "# d = (data[0], torch.ones_like(data[0]), data[1])\n",
    "q = urq_v2(d[:2], 2**-2, dequantised_bits=8)\n",
    "print(f\"delta = {q.codepoints[1] - q.codepoints[0]:.3f}\")\n",
    "print(f\"error = {rmse_norm(d, q):.3f}\")\n",
    "print(f\" bits = {q.bits_per_element(d[:2]):.3f}\")\n",
    "print(f\"  eff = {rmse_norm(d, q) * 2**q.bits_per_element(d[:2]):.3f}\")"
   ]
  },
  {
   "cell_type": "markdown",
   "id": "7533bed6",
   "metadata": {},
   "source": [
    "### Method: ECSQ"
   ]
  },
  {
   "cell_type": "code",
   "execution_count": null,
   "id": "16025c8e",
   "metadata": {},
   "outputs": [
    {
     "name": "stdout",
     "output_type": "stream",
     "text": [
      "    N = 42\n",
      "error = 0.467\n",
      " bits = 1.048\n",
      "  eff = 0.966\n"
     ]
    }
   ],
   "source": [
    "def ecsq(data: tuple[Tensor, Tensor], lambase: float, convergence_threshold: float = 1e-3) -> Quantiser:\n",
    "    lam = lambase * data[0].pow(2).mul(data[1]).mean()\n",
    "    delta = data[0].pow(2).mean().mul(lambase * 0.5).sqrt()  # *0.5 is a heuristic - should be plenty\n",
    "\n",
    "    codepoints = torch.arange(\n",
    "        data[0].amin().div(delta).floor().long(),\n",
    "        data[0].amax().div(delta).ceil().long() + 1,\n",
    "    ).mul(delta)\n",
    "    lengths = torch.ones_like(codepoints)\n",
    "    idx = torch.zeros_like(data[0], dtype=torch.long)\n",
    "    while True:\n",
    "        last_idx = idx\n",
    "        idx = (data[0][:, None] - codepoints).pow(2).mul(data[1][:, None]).add(lam * lengths).argmin(-1)\n",
    "        counts = idx.bincount(minlength=len(codepoints))\n",
    "        lengths = counts.div(counts.sum()).log2().neg()\n",
    "        idx_change = (last_idx != idx).float().mean().item()\n",
    "        if idx_change <= convergence_threshold:\n",
    "            mask = ~torch.isinf(lengths)\n",
    "            return Quantiser(codepoints[mask], lengths[mask], lam)\n",
    "        codepoints = (\n",
    "            torch.zeros_like(codepoints).scatter_add_(0, idx, data[0].mul(data[1]))\n",
    "            / torch.zeros_like(codepoints).scatter_add_(0, idx, data[1])\n",
    "        ).nan_to_num_(torch.inf)\n",
    "\n",
    "\n",
    "d = data\n",
    "# d = (1*data[0], 1*data[1])\n",
    "# d = (data[0], torch.ones_like(data[0]), data[1])\n",
    "q = ecsq(d[:2], 2**-2)\n",
    "print(f\"    N = {len(q.codepoints)}\")\n",
    "print(f\"error = {rmse_norm(d, q):.3f}\")\n",
    "print(f\" bits = {q.bits_per_element(d[:2]):.3f}\")\n",
    "print(f\"  eff = {rmse_norm(d, q) * 2**q.bits_per_element(d[:2]):.3f}\")"
   ]
  },
  {
   "cell_type": "markdown",
   "id": "f9df1637",
   "metadata": {},
   "source": [
    "### Analysis"
   ]
  },
  {
   "cell_type": "code",
   "execution_count": 215,
   "id": "2cad905f",
   "metadata": {},
   "outputs": [],
   "source": [
    "methods = [\n",
    "    (scaled_int, dict(bits=torch.linspace(1, 3.5, 6).tolist())),\n",
    "    (lloyd_max, dict(bits=torch.linspace(1, 3.5, 6).tolist())),\n",
    "    (urq, dict(lambase=(2**-torch.linspace(1.5, 6, 5)).tolist())),\n",
    "    # (urq_v2, dict(lambase=(2**-torch.linspace(1.5, 6, 5)).tolist())),\n",
    "    (ecsq, dict(lambase=(2**-torch.linspace(1.5, 6, 5)).tolist())),\n",
    "]\n",
    "\n",
    "results = []\n",
    "for method, kwargs in methods:\n",
    "    for weighted in [False, True]:\n",
    "        for argvals in zip(*kwargs.values()):\n",
    "            args = dict(zip(kwargs.keys(), argvals))\n",
    "            d = data if weighted else (data[0], torch.ones_like(data[0]), data[1])\n",
    "            q = method(d[:2], **args)\n",
    "            results.append(dict(\n",
    "                method=method.__name__.replace(\"_\", \"-\"),\n",
    "                weighted=weighted,\n",
    "                bits=q.bits_per_element(d[:2]).item(),\n",
    "                rmse=rmse_norm(d, q).item(),\n",
    "            ))\n",
    "df = pd.DataFrame.from_records(results)"
   ]
  },
  {
   "cell_type": "code",
   "execution_count": 218,
   "id": "f0d341c2",
   "metadata": {},
   "outputs": [
    {
     "data": {
      "image/png": "[encoded data removed]",
      "text/plain": [
       "<Figure size 400x300 with 1 Axes>"
      ]
     },
     "metadata": {},
     "output_type": "display_data"
    }
   ],
   "source": [
    "df = df.assign(efficiency=df.rmse * 2**df.bits)\n",
    "ax = sns.lineplot(data=df, y=\"efficiency\", x=\"bits\", hue=\"method\", style=\"weighted\", style_order=[True, False], marker=\"o\")\n",
    "ax.legend(bbox_to_anchor=(1, 0.5), loc=\"center left\")\n",
    "ax.set_ylabel(r\"$\\mathrm{RMSE} \\cdot 2^{\\mathrm{bits}}$\");"
   ]
  }
 ],
 "metadata": {
  "kernelspec": {
   "display_name": ".venv",
   "language": "python",
   "name": "python3"
  },
  "language_info": {
   "codemirror_mode": {
    "name": "ipython",
    "version": 3
   },
   "file_extension": ".py",
   "mimetype": "text/x-python",
   "name": "python",
   "nbconvert_exporter": "python",
   "pygments_lexer": "ipython3",
   "version": "3.12.7"
  }
 },
 "nbformat": 4,
 "nbformat_minor": 5
}
